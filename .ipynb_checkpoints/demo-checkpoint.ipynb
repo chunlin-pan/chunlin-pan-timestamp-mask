{
 "cells": [
  {
   "cell_type": "code",
   "execution_count": null,
   "metadata": {
    "scrolled": true
   },
   "outputs": [],
   "source": [
    "import timestamp\n",
    "from moviepy.editor import *\n",
    "\n",
    "filename = 'demo/input.mp4'\n",
    "time = [2020, 5, 10, 14, 15] #[year, month, day, hour, minute]\n",
    "start_time = 0\n",
    "duration = 5\n",
    "audio = 'off'\n",
    "output_name = 'demo/output.mp4'\n",
    "timestamp.timestamp(filename=filename, time=time, duration=duration, output_name=output_name, start_time=start_time, audio = audio, color='white')\n",
    "\n",
    "original video\n",
    "video = VideoFileClip(filename).subclip(start_time, duration).without_audio()\n",
    "input_text = TextClip('Input', fontsize=240, color='black').set_duration(5).set_position('center')\n",
    "video = CompositeVideoClip([video, input_text]).resize(width = 480).speedx(3).write_gif('demo/input_gif.gif',fps = 30)\n",
    "\n",
    "#text clip\n",
    "text_list = []\n",
    "for i in range(duration):\n",
    "    text_clip = TextClip(timestamp.set_time(time, i)+'\\nTimestamp', fontsize=42, color='white').set_duration(1)\n",
    "    text_list.append(text_clip)\n",
    "final_text_clip = concatenate_videoclips(text_list).set_position((0.05,0.85), relative=True).speedx(3).write_gif('demo/timestamp_gif.gif',fps = 30)\n",
    "\n",
    "# video with timestamp\n",
    "video_with_timestamp = VideoFileClip(output_name)\n",
    "output_text = TextClip('Output', fontsize=240, color='black').set_duration(5).set_position('center')\n",
    "CompositeVideoClip([video_with_timestamp, output_text]).resize(width = 480).speedx(3).write_gif('demo/output_gif.gif',fps = 30)"
   ]
  }
 ],
 "metadata": {
  "kernelspec": {
   "display_name": "Python 3",
   "language": "python",
   "name": "python3"
  },
  "language_info": {
   "codemirror_mode": {
    "name": "ipython",
    "version": 3
   },
   "file_extension": ".py",
   "mimetype": "text/x-python",
   "name": "python",
   "nbconvert_exporter": "python",
   "pygments_lexer": "ipython3",
   "version": "3.6.5"
  }
 },
 "nbformat": 4,
 "nbformat_minor": 2
}
